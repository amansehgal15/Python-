{
 "cells": [
  {
   "cell_type": "code",
   "execution_count": 1,
   "metadata": {},
   "outputs": [],
   "source": [
    "import numpy as np"
   ]
  },
  {
   "cell_type": "markdown",
   "metadata": {},
   "source": [
    "Write a function so that the columns of the output matrix are powers of the input\n",
    "vector.\n",
    "The order of the powers is determined by the increasing boolean argument. Specifically, when\n",
    "increasing is False, the i-th output column is the input vector raised element-wise to the power\n",
    "of N - i - 1.\n",
    "HINT: Such a matrix with a geometric progression in each row is named for AlexandreTheophile Vandermonde."
   ]
  },
  {
   "cell_type": "code",
   "execution_count": 2,
   "metadata": {},
   "outputs": [
    {
     "name": "stdout",
     "output_type": "stream",
     "text": [
      "Enter N: \n",
      "Enter Increasing True Or False: \n"
     ]
    },
    {
     "data": {
      "text/plain": [
       "array([[   1,    1,    1,    1,    1,    1],\n",
       "       [  32,   16,    8,    4,    2,    1],\n",
       "       [ 243,   81,   27,    9,    3,    1],\n",
       "       [1024,  256,   64,   16,    4,    1],\n",
       "       [3125,  625,  125,   25,    5,    1],\n",
       "       [7776, 1296,  216,   36,    6,    1]], dtype=int32)"
      ]
     },
     "execution_count": 2,
     "metadata": {},
     "output_type": "execute_result"
    }
   ],
   "source": [
    "def vander(x):\n",
    "    try:\n",
    "        N=int(input('Enter N: ') or len(x))\n",
    "        inc=(input('Enter Increasing True Or False: ') or \"False\")\n",
    "        if inc=='True':\n",
    "            out=np.column_stack([x**(i) for i in range(N)])\n",
    "\n",
    "        elif inc=='False':\n",
    "            out=np.column_stack([x**(N-1-i) for i in range(N)])\n",
    "            \n",
    "        else:\n",
    "            print('Enter a Boolean')\n",
    "\n",
    "        return out\n",
    "    except Exception as e:\n",
    "        return e\n",
    "\n",
    "#calling object\n",
    "arr=np.array([1,2,3,4,5,6])\n",
    "vander(arr)\n",
    "    "
   ]
  },
  {
   "cell_type": "raw",
   "metadata": {},
   "source": [
    "Given a sequence of n values x1, x2, ..., xn and a window size k>0, the k-th moving average of\n",
    "the given sequence is defined as follows:\n",
    "The moving average sequence has n-k+1 elements as shown below.\n",
    "The moving averages with k=4 of a ten-value sequence (n=10) is shown below\n",
    "i 1 2 3 4 5 6 7 8 9 10\n",
    "===== == == == == == == == == == ==\n",
    "Input 10 20 30 40 50 60 70 80 90 100\n",
    "y1 25 = (10+20+30+40)/4\n",
    "y2 35 = (20+30+40+50)/4\n",
    "y3 45 = (30+40+50+60)/4\n",
    "y4 55 = (40+50+60+70)/4\n",
    "y5 65 = (50+60+70+80)/4\n",
    "y6 75 = (60+70+80+90)/4\n",
    "y7 85 = (70+80+90+100)/4\n",
    "Thus, the moving average sequence has n-k+1=10-4+1=7 values.\n",
    "Question: Write a function to find moving average in an array over a window:\n",
    " Test it over [3, 5, 7, 2, 8, 10, 11, 65, 72, 81, 99, 100, 150] and window of 3"
   ]
  },
  {
   "cell_type": "code",
   "execution_count": 3,
   "metadata": {},
   "outputs": [
    {
     "name": "stdout",
     "output_type": "stream",
     "text": [
      "Enter integers to store in 1-D array seprated by commas: 3,5,7,2,8,10,11,65,72,81,99,100,150\n",
      "Enter the window :3\n",
      "No. of Elements : 11\n",
      "\n",
      "\n",
      "y1: 3.3\n",
      "y2: 5.0\n",
      "y3: 6.7\n",
      "y4: 8.3\n",
      "y5: 9.7\n",
      "y6: 28.7\n",
      "y7: 49.3\n",
      "y8: 72.7\n",
      "y9: 84.0\n",
      "y10: 93.3\n",
      "y11: 116.3\n"
     ]
    },
    {
     "data": {
      "text/plain": [
       "array([  3.3,   5. ,   6.7,   8.3,   9.7,  28.7,  49.3,  72.7,  84. ,\n",
       "        93.3, 116.3])"
      ]
     },
     "execution_count": 3,
     "metadata": {},
     "output_type": "execute_result"
    }
   ],
   "source": [
    "def moving_avg_seq():\n",
    "    try:                                      #checking for exception\n",
    "        array=list(map(int,input('Enter integers to store in 1-D array seprated by commas: ').split(',')))\n",
    "        k=int(input('Enter the window :'))\n",
    "        array=np.array(array)                 #converting to array\n",
    "        array=np.sort(array)                  #Sorting the array\n",
    "        length=len(array)                     #no. of elements in array\n",
    "        elements=length-k+1                   #Elements to be Printed\n",
    "        output=np.array([])                   #array for output\n",
    "\n",
    "        print('No. of Elements :',elements)\n",
    "        print('\\n')\n",
    "    \n",
    "        for i in range(0,elements):           #Loop for no. of elements\n",
    "            temp=np.array([])\n",
    "            for j in range(0,k):              #loop for no. of elements to be added\n",
    "                temp=np.append(temp,array[i+j]) \n",
    "\n",
    "            y=(np.sum(temp)/k)                #output element\n",
    "            y=round(y,1)\n",
    "            output=np.append(output,y)        #storing in Output array\n",
    "            print('y' +str(i+1) +str(':'),y)\n",
    "            \n",
    "        return output\n",
    "            \n",
    "    except Exception as e:\n",
    "        print(e)\n",
    "\n",
    "#calling the function\n",
    "moving_avg_seq()"
   ]
  }
 ],
 "metadata": {
  "kernelspec": {
   "display_name": "Python 3",
   "language": "python",
   "name": "python3"
  },
  "language_info": {
   "codemirror_mode": {
    "name": "ipython",
    "version": 3
   },
   "file_extension": ".py",
   "mimetype": "text/x-python",
   "name": "python",
   "nbconvert_exporter": "python",
   "pygments_lexer": "ipython3",
   "version": "3.7.6"
  }
 },
 "nbformat": 4,
 "nbformat_minor": 2
}
