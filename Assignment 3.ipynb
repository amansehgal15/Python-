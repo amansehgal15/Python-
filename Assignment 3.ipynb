{
 "cells": [
  {
   "cell_type": "markdown",
   "metadata": {},
   "source": [
    "1.2 Write a Python program to implement your own myfilter() function which works exactly like Python's built-in function filter() "
   ]
  },
  {
   "cell_type": "code",
   "execution_count": null,
   "metadata": {},
   "outputs": [],
   "source": [
    "lst1=[2,4,6,8,5,2,2,9,5]\n",
    "fun1=lambda x:x%2==0\n",
    "def fun2(x):\n",
    "    if x%2==0:\n",
    "        return(x)"
   ]
  },
  {
   "cell_type": "code",
   "execution_count": null,
   "metadata": {},
   "outputs": [],
   "source": [
    "def myfilter(a,b):\n",
    "    lst=[]\n",
    "    for i in (b):\n",
    "        a=fun1(i)\n",
    "        if type(a) is bool:\n",
    "            if a==True:\n",
    "                lst.append(i)\n",
    "        elif a!=None:\n",
    "            lst.append(a)\n",
    "    return lst\n",
    "\n",
    "#calling the function\n",
    "list(myfilter(fun1,lst1))\n"
   ]
  },
  {
   "cell_type": "markdown",
   "metadata": {},
   "source": [
    "Write a Python Program to implement your own myreduce() function which works exactly like Python's built-in function reduce() "
   ]
  },
  {
   "cell_type": "code",
   "execution_count": null,
   "metadata": {},
   "outputs": [],
   "source": [
    "l=[1,2,3,4,5,6,7,8,9,10]\n",
    "fun=lambda x,y:x*y\n",
    "def myreduce(func,y):\n",
    "    t=len(y)\n",
    "    func=fun(l[0],l[1])\n",
    "    for i in range(2,t):\n",
    "        temp=fun(func,l[i])\n",
    "        func=temp\n",
    "    return(func)\n",
    "\n",
    "#calling the function\n",
    "myreduce(fun1,l)"
   ]
  },
  {
   "cell_type": "markdown",
   "metadata": {},
   "source": [
    "Write List comprehensions to produce the following Lists\n",
    "\n",
    "\n",
    "['x', 'xx', 'xxx', 'xxxx', 'y', 'yy', 'yyy', 'yyyy', 'z', 'zz', 'zzz', 'zzzz\n",
    "\n",
    "['x', 'y', 'z', 'xx', 'yy', 'zz', 'xxx', 'yyy', 'zzz', 'xxxx', 'yyyy', 'zzzz']\n",
    "\n",
    "[[2], [3], [4], [3], [4], [5], [4], [5], [6]]\n",
    "\n",
    "[[2, 3, 4, 5], [3, 4, 5, 6],[4, 5, 6, 7], [5, 6, 7, 8]]\n",
    "\n",
    "[(1, 1), (2, 1), (3, 1), (1, 2), (2, 2), (3, 2), (1, 3), (2, 3), (3, 3)]"
   ]
  },
  {
   "cell_type": "code",
   "execution_count": null,
   "metadata": {},
   "outputs": [],
   "source": [
    "def listpat(n):\n",
    "    lst=[]\n",
    "    lst1=[]\n",
    "    lst2=[]\n",
    "    lst3=[]\n",
    "    lst4=[]\n",
    "#First List    \n",
    "\n",
    "    for i in range(1,n+1):\n",
    "        lst.append('x'*i)\n",
    "    for i in range(1,n+1):\n",
    "        lst.append('y'*i)\n",
    "    for i in range(1,n+1):\n",
    "        lst.append('z'*i)\n",
    "#Second List\n",
    "\n",
    "    for i in range(1,n+1):\n",
    "        lst1.append('x'*i)\n",
    "        lst1.append('y'*i)\n",
    "        lst1.append('z'*i)\n",
    "#Third List\n",
    "\n",
    "    for i in range(1,4):\n",
    "        for j in range(1,4):\n",
    "            lst2.append((j,i))\n",
    "#Fourth List\n",
    "\n",
    "    for i in range(2,5):\n",
    "        lst3.append([i])\n",
    "        lst3.append([i+1])\n",
    "        lst3.append([i+2])\n",
    "#Fifth List\n",
    "\n",
    "    for i in range(2,6):\n",
    "        lst4.append([i,i+1,i+2,i+3])\n",
    "    print('First List  :',lst)\n",
    "    print('Second List :',lst1)\n",
    "    print('Third List  :',lst2)\n",
    "    print('Fourth List :',lst3)\n",
    "    print('Fifth List  :',lst4)\n",
    "    \n",
    "#Calling list     \n",
    "n=int(input('Enter the no. :'))\n",
    "listpat(n)"
   ]
  }
 ],
 "metadata": {
  "kernelspec": {
   "display_name": "Python 3",
   "language": "python",
   "name": "python3"
  },
  "language_info": {
   "codemirror_mode": {
    "name": "ipython",
    "version": 3
   },
   "file_extension": ".py",
   "mimetype": "text/x-python",
   "name": "python",
   "nbconvert_exporter": "python",
   "pygments_lexer": "ipython3",
   "version": "3.7.6"
  }
 },
 "nbformat": 4,
 "nbformat_minor": 2
}
